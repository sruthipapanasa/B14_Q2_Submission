{
 "cells": [
  {
   "cell_type": "code",
   "execution_count": 1,
   "id": "20c63985-6389-49e0-8c44-2ca07a84219b",
   "metadata": {},
   "outputs": [],
   "source": [
    "import re\n",
    "import numpy as np\n",
    "import pandas as pd\n",
    "import matplotlib.pyplot as plt\n",
    "from langchain.llms import OpenAI\n",
    "from langdetect import detect_langs\n",
    "from langchain.agents import load_tools\n",
    "from langchain.chat_models import ChatOpenAI\n",
    "from langchain.agents import initialize_agent\n",
    "from langchain.agents.agent_types import AgentType"
   ]
  },
  {
   "cell_type": "code",
   "execution_count": 17,
   "id": "02045ecb-edda-469a-be33-da24cbe07d18",
   "metadata": {},
   "outputs": [],
   "source": [
    "llm = OpenAI(temperature=0.2,\n",
    "             openai_api_key=INSERT_KEY_HERE,\n",
    "             model = \"gpt-3.5-turbo-instruct\"\n",
    "             )"
   ]
  },
  {
   "cell_type": "code",
   "execution_count": 18,
   "id": "8c2be3cf-f718-4715-8a7a-a02b12897936",
   "metadata": {},
   "outputs": [],
   "source": [
    "neutral_tweets = pd.read_csv(\"split_data/neutral_tweets.csv\")\n",
    "biden_tweets_more = pd.read_csv(\"split_data/biden_tweets_more.csv\")\n",
    "biden_tweets_less = pd.read_csv(\"split_data/biden_tweets_less.csv\")\n",
    "trump_tweets_more = pd.read_csv(\"split_data/trump_tweets_more.csv\")\n",
    "trump_tweets_less = pd.read_csv(\"split_data/trump_tweets_less.csv\")"
   ]
  },
  {
   "cell_type": "code",
   "execution_count": 19,
   "id": "894bb7df-8059-4186-bad0-794699235ca1",
   "metadata": {},
   "outputs": [],
   "source": [
    "def sampling_and_naming(sample_size, biden_tweets_more, biden_tweets_less, trump_tweets_more, trump_tweets_less, neutral_tweets):\n",
    "    biden_tweets_more[\"agent_name\"] = \"Biden_A\"\n",
    "    biden_tweets_more = biden_tweets_more.sample(sample_size)\n",
    "        \n",
    "    biden_tweets_less[\"agent_name\"] = \"Biden_B\"\n",
    "    biden_tweets_less = biden_tweets_less.sample(sample_size)\n",
    "        \n",
    "    trump_tweets_more[\"agent_name\"] = \"Trump_A\"\n",
    "    trump_tweets_more = trump_tweets_more.sample(sample_size)\n",
    "    \n",
    "    trump_tweets_less[\"agent_name\"] = \"Trump_B\"\n",
    "    trump_tweets_less = trump_tweets_less.sample(sample_size)\n",
    "    \n",
    "    neutral_tweets[\"agent_name\"] = \"Neutral\"\n",
    "    neutral_tweets = neutral_tweets.sample(sample_size)\n",
    "    df = pd.concat([biden_tweets_more, biden_tweets_less, trump_tweets_more, trump_tweets_less, neutral_tweets], ignore_index=True)\n",
    "    return df \n",
    "\n",
    "df= sampling_and_naming(50, biden_tweets_more, biden_tweets_less, trump_tweets_more, trump_tweets_less, neutral_tweets)\n",
    "    "
   ]
  },
  {
   "cell_type": "code",
   "execution_count": 12,
   "id": "99461247-567a-4e63-85cb-a5d17ac059f6",
   "metadata": {},
   "outputs": [
    {
     "data": {
      "text/plain": [
       "Biden_A    50\n",
       "Biden_B    50\n",
       "Trump_A    50\n",
       "Trump_B    50\n",
       "Neutral    50\n",
       "Name: agent_name, dtype: int64"
      ]
     },
     "execution_count": 12,
     "metadata": {},
     "output_type": "execute_result"
    }
   ],
   "source": [
    "df[\"agent_name\"].value_counts()"
   ]
  },
  {
   "cell_type": "code",
   "execution_count": 20,
   "id": "50be44be-4b24-4ba8-89fc-4912c7f4b756",
   "metadata": {},
   "outputs": [],
   "source": [
    "def mock_persona(tweet_examples, task):\n",
    "    def get_authors_tone_description(tweet_examples):\n",
    "        template = f\"\"\"\n",
    "            You are an AI Bot skilled in extracting political stances from writing examples.\n",
    "            Please analyze the examples provided and determine the political stance conveyed in the writing.\n",
    "\n",
    "            % START OF EXAMPLES\n",
    "            {tweet_examples}\n",
    "            % END OF EXAMPLES\n",
    "\n",
    "            Describe the political stance of the example above.\n",
    "        \"\"\"\n",
    "        final_prompt = template.format(tweet_examples=tweet_examples)\n",
    "        return llm.predict(final_prompt)\n",
    "    \n",
    "    template = \\\n",
    "        \"\"\"\n",
    "        % INSTRUCTIONS\n",
    "        - You are an AI Bot that is very good at mimicking an author writing style.\n",
    "        - Your goal is to write content with the political stance tone that is described below.\n",
    "        - You're a smart AI. You can determine from the examples below whether the user is a supporter of Trump, Biden, or neither.\n",
    "        - Do not go outside the tone instructions below\n",
    "\n",
    "        % Description of the authors political stance tone:\n",
    "        {authors_tone_description}\n",
    "\n",
    "        % START OF EXAMPLES\n",
    "        {tweet_examples}\n",
    "        % END OF EXAMPLES\n",
    "\n",
    "        % YOUR TASK\n",
    "        1. Answering the question \"{task}\" using author writing style and mock author political persona\n",
    "    \"\"\"\n",
    "    \n",
    "    authors_tone_description = get_authors_tone_description(tweet_examples)\n",
    "    prompt_template = \\\n",
    "        template.format(authors_tone_description=authors_tone_description,\n",
    "                        tweet_examples=tweet_examples, task=task)\n",
    "    return prompt_template"
   ]
  },
  {
   "cell_type": "code",
   "execution_count": 24,
   "id": "3a867c95-6952-49d0-97c7-8eb719fa7a0e",
   "metadata": {},
   "outputs": [],
   "source": [
    "def main(user_letter, task, df=df):\n",
    "    user_tweets = df[df['agent_name'] == user_letter]['cleaned_tweets'].to_list()\n",
    "    prompt_template = mock_persona(user_tweets, task)\n",
    "\n",
    "    tools = load_tools(['llm-math'], llm=llm)\n",
    "    agent = initialize_agent(tools, llm,\n",
    "                             agent=AgentType.ZERO_SHOT_REACT_DESCRIPTION,\n",
    "                             handle_parsing_errors=True,\n",
    "                             verbose=False)\n",
    "\n",
    "    return agent.run(prompt_template)"
   ]
  }
 ],
 "metadata": {
  "kernelspec": {
   "display_name": "Python 3 (ipykernel)",
   "language": "python",
   "name": "python3"
  },
  "language_info": {
   "codemirror_mode": {
    "name": "ipython",
    "version": 3
   },
   "file_extension": ".py",
   "mimetype": "text/x-python",
   "name": "python",
   "nbconvert_exporter": "python",
   "pygments_lexer": "ipython3",
   "version": "3.9.13"
  }
 },
 "nbformat": 4,
 "nbformat_minor": 5
}
