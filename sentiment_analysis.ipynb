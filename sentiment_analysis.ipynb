{
 "cells": [
  {
   "cell_type": "code",
   "execution_count": 1,
   "id": "23010715-9428-42a7-90c3-185c40b3cca1",
   "metadata": {},
   "outputs": [],
   "source": [
    "import pandas as pd\n",
    "from matplotlib import pyplot as plt\n",
    "from pysentimiento import create_analyzer\n",
    "from data_cleaning import *"
   ]
  },
  {
   "cell_type": "markdown",
   "id": "5da1b951-c76c-47a5-99b9-e4bcd0f6d605",
   "metadata": {},
   "source": [
    "### data cleaning"
   ]
  },
  {
   "cell_type": "code",
   "execution_count": null,
   "id": "cbe6154d-1848-47fc-8888-77873692fe47",
   "metadata": {},
   "outputs": [],
   "source": [
    "trump = pd.read_csv(\"data/hashtag_donaldtrump.csv\", lineterminator='\\n')\n",
    "biden = pd.read_csv(\"data/hashtag_joebiden.csv\", lineterminator='\\n')\n",
    "\n",
    "\n",
    "trump_clean_filtered = filter_tweets(trump)\n",
    "biden_clean_filtered = filter_tweets(biden)\n",
    "\n",
    "trump_clean_final = filter_english_entries(trump_clean_filtered, 'cleaned_tweets')\n",
    "biden_clean_final = filter_english_entries(biden_clean_filtered, 'cleaned_tweets')\n",
    "\n",
    "\n",
    "trump_clean.to_csv('data/cleaned_tweets_biden.csv')\n",
    "biden_clean.to_csv('data/cleaned_tweets_trump.csv')"
   ]
  },
  {
   "cell_type": "code",
   "execution_count": null,
   "id": "b7f42d02-f9de-4f71-a7d2-63f99f19d7f3",
   "metadata": {},
   "outputs": [],
   "source": [
    "df_biden = pd.read_csv(\"cleaned_tweets_biden.csv\")\n",
    "df_trump = pd.read_csv(\"cleaned_tweets_trump.csv\")"
   ]
  },
  {
   "cell_type": "code",
   "execution_count": 3,
   "id": "97eb0349-6e2b-4b5b-8eac-19239c8b6b0b",
   "metadata": {},
   "outputs": [],
   "source": [
    "#change all tweets to lower case\n",
    "df_trump['cleaned_tweets'] = df_trump['cleaned_tweets'].apply(lambda x: x.lower())\n",
    "df_biden['cleaned_tweets'] = df_biden['cleaned_tweets'].apply(lambda x: x.lower())"
   ]
  },
  {
   "cell_type": "code",
   "execution_count": 4,
   "id": "4bfb47b2-29c1-4343-bd43-db4e8528c16b",
   "metadata": {},
   "outputs": [],
   "source": [
    "#take out all tweets that mention both trump and biden\n",
    "df_biden_filter = df_biden[~df_biden['cleaned_tweets'].str.contains('trump|donald', case=False, na=False)]\n",
    "df_trump_filter = df_trump[~df_trump['cleaned_tweets'].str.contains('biden|joe', case=False, na=False)]"
   ]
  },
  {
   "cell_type": "code",
   "execution_count": 5,
   "id": "e4164c67-d106-4e61-ad64-0f1d7d5f6a8a",
   "metadata": {},
   "outputs": [
    {
     "data": {
      "text/plain": [
       "(14059, 62469)"
      ]
     },
     "execution_count": 5,
     "metadata": {},
     "output_type": "execute_result"
    }
   ],
   "source": [
    "len(df_trump_filter), len(df_biden_filter)"
   ]
  },
  {
   "cell_type": "markdown",
   "id": "87bf6078-59cc-4975-bfac-7e13f9e8a039",
   "metadata": {},
   "source": [
    "### sentiment score assigment to tweet"
   ]
  },
  {
   "cell_type": "code",
   "execution_count": null,
   "id": "c85fb66b-a046-417f-a80a-b6808ef7f41d",
   "metadata": {},
   "outputs": [
    {
     "name": "stderr",
     "output_type": "stream",
     "text": [
      "/Users/tonoyaahmed/opt/anaconda3/lib/python3.9/site-packages/scipy/__init__.py:155: UserWarning: A NumPy version >=1.18.5 and <1.25.0 is required for this version of SciPy (detected version 1.26.4\n",
      "  warnings.warn(f\"A NumPy version >={np_minversion} and <{np_maxversion}\"\n"
     ]
    }
   ],
   "source": [
    "\n",
    "#function to assign sentiment scores to each tweet\n",
    "def find_sentiment(sentence):\n",
    "    sentiment = analyzer.predict(sentence)\n",
    "    arbitrary = 2\n",
    "    neutral_weight = sentiment.probas[\"NEU\"]\n",
    "    pos_weight = sentiment.probas[\"POS\"]\n",
    "    neg_weight = sentiment.probas[\"NEG\"]\n",
    "    senti_score = (pos_weight * (arbitrary + 1)) + (neutral_weight * (arbitrary)) + (neg_weight * (arbitrary - 1)) - arbitrary\n",
    "    return senti_score\n",
    "\n",
    "analyzer = create_analyzer(task=\"sentiment\", lang=\"en\")\n"
   ]
  },
  {
   "cell_type": "code",
   "execution_count": null,
   "id": "4c412c5a-914f-4330-9c8f-7665418eda55",
   "metadata": {},
   "outputs": [],
   "source": [
    "#make biden dataset the same size as trump dataset for better comparisons\n",
    "biden_shortened = df_biden_filter.sample(n = len(df_trump_filter))"
   ]
  },
  {
   "cell_type": "code",
   "execution_count": 9,
   "id": "9466b192-b5f9-444d-9128-75e5fdc6bc19",
   "metadata": {},
   "outputs": [
    {
     "name": "stderr",
     "output_type": "stream",
     "text": [
      "/Library/Frameworks/Python.framework/Versions/3.11/lib/python3.11/site-packages/transformers/models/roberta/modeling_roberta.py:1561: UserWarning: cumsum_out_mps supported by MPS on MacOS 13+, please upgrade (Triggered internally at /Users/runner/work/pytorch/pytorch/pytorch/aten/src/ATen/native/mps/operations/UnaryOps.mm:406.)\n",
      "  incremental_indices = (torch.cumsum(mask, dim=1).type_as(mask) + past_key_values_length) * mask\n",
      "/var/folders/_f/l9lzgfd97zd7t7js9_gjxx600000gn/T/ipykernel_2438/1633535026.py:1: SettingWithCopyWarning: \n",
      "A value is trying to be set on a copy of a slice from a DataFrame.\n",
      "Try using .loc[row_indexer,col_indexer] = value instead\n",
      "\n",
      "See the caveats in the documentation: https://pandas.pydata.org/pandas-docs/stable/user_guide/indexing.html#returning-a-view-versus-a-copy\n",
      "  df_trump_filter[\"sentiment\"] = df_trump_filter[\"cleaned_tweets\"].apply(find_sentiment)\n"
     ]
    },
    {
     "name": "stdout",
     "output_type": "stream",
     "text": [
      "done\n"
     ]
    }
   ],
   "source": [
    "#apply the score function to both datasets\n",
    "df_trump_filter[\"sentiment\"] = df_trump_filter[\"cleaned_tweets\"].apply(find_sentiment)\n",
    "print(\"done\")\n",
    "biden_shortened[\"sentiment\"] = biden_shortened[\"cleaned_tweets\"].apply(find_sentiment)"
   ]
  },
  {
   "cell_type": "markdown",
   "id": "9dab074d-97ae-45d1-901c-c78c2be6a254",
   "metadata": {},
   "source": [
    "### distribution of sentiments in trump dataset"
   ]
  },
  {
   "cell_type": "code",
   "execution_count": 11,
   "id": "aa90e2a3-c0c8-443d-8475-9d89e1955571",
   "metadata": {},
   "outputs": [
    {
     "data": {
      "text/plain": [
       "(array([7975., 1037.,  744.,  710., 1118., 1083.,  320.,  266.,  220.,\n",
       "         586.]),\n",
       " array([-0.98038979, -0.78323927, -0.58608875, -0.38893823, -0.19178771,\n",
       "         0.0053628 ,  0.20251332,  0.39966384,  0.59681436,  0.79396488,\n",
       "         0.9911154 ]),\n",
       " <BarContainer object of 10 artists>)"
      ]
     },
     "execution_count": 11,
     "metadata": {},
     "output_type": "execute_result"
    },
    {
     "data": {
      "image/png": "[encoded data removed]",
      "text/plain": [
       "<Figure size 640x480 with 1 Axes>"
      ]
     },
     "metadata": {},
     "output_type": "display_data"
    }
   ],
   "source": [
    "plt.hist(df_trump_filter[\"sentiment\"])"
   ]
  },
  {
   "cell_type": "markdown",
   "id": "e004b4ad-6ae0-460b-bc27-3a979af6dc9c",
   "metadata": {},
   "source": [
    "### distribution of sentiments in biden dataset"
   ]
  },
  {
   "cell_type": "code",
   "execution_count": 13,
   "id": "edc67f1e-2243-4b97-9d84-2be309034f82",
   "metadata": {},
   "outputs": [
    {
     "data": {
      "text/plain": [
       "(array([4605.,  874.,  668.,  684., 1194., 2075.,  764.,  577.,  678.,\n",
       "        1940.]),\n",
       " array([-0.98045847, -0.78326801, -0.58607755, -0.38888709, -0.19169664,\n",
       "         0.00549382,  0.20268428,  0.39987474,  0.59706519,  0.79425565,\n",
       "         0.99144611]),\n",
       " <BarContainer object of 10 artists>)"
      ]
     },
     "execution_count": 13,
     "metadata": {},
     "output_type": "execute_result"
    },
    {
     "data": {
      "image/png": "[encoded data removed]",
      "text/plain": [
       "<Figure size 640x480 with 1 Axes>"
      ]
     },
     "metadata": {},
     "output_type": "display_data"
    }
   ],
   "source": [
    "plt.hist(biden_shortened[\"sentiment\"])"
   ]
  },
  {
   "cell_type": "markdown",
   "id": "e5f7796e-b3a7-45e2-adbe-35344cacaa8e",
   "metadata": {},
   "source": [
    "### change sentiment scores to verbal sentiment\n"
   ]
  },
  {
   "cell_type": "code",
   "execution_count": 14,
   "id": "1df5f9ee-c402-4939-9424-23310ce25b91",
   "metadata": {},
   "outputs": [
    {
     "name": "stderr",
     "output_type": "stream",
     "text": [
      "/var/folders/_f/l9lzgfd97zd7t7js9_gjxx600000gn/T/ipykernel_2438/4047799549.py:12: SettingWithCopyWarning: \n",
      "A value is trying to be set on a copy of a slice from a DataFrame.\n",
      "Try using .loc[row_indexer,col_indexer] = value instead\n",
      "\n",
      "See the caveats in the documentation: https://pandas.pydata.org/pandas-docs/stable/user_guide/indexing.html#returning-a-view-versus-a-copy\n",
      "  df_trump_filter['sentiment_category'] = df_trump_filter['sentiment'].apply(sentiment_category)\n"
     ]
    }
   ],
   "source": [
    "def sentiment_category(sentiment):\n",
    "    label = ''\n",
    "    if(sentiment>0):\n",
    "        label = 'positive'\n",
    "    elif(sentiment == 0):\n",
    "        label = 'neutral'\n",
    "    else:\n",
    "        label = 'negative'\n",
    "    return(label)\n",
    "\n",
    "biden_shortened['sentiment_category'] = biden_shortened['sentiment'].apply(sentiment_category)\n",
    "df_trump_filter['sentiment_category'] = df_trump_filter['sentiment'].apply(sentiment_category)"
   ]
  },
  {
   "cell_type": "markdown",
   "id": "7aae5810-f540-4218-926a-d75db75753c9",
   "metadata": {},
   "source": [
    "### extract politcal alignment from sentiment scores of each tweet"
   ]
  },
  {
   "cell_type": "code",
   "execution_count": 15,
   "id": "8d301313-f8a0-4c39-a23c-99b908ac7a27",
   "metadata": {
    "scrolled": true
   },
   "outputs": [
    {
     "name": "stderr",
     "output_type": "stream",
     "text": [
      "/var/folders/_f/l9lzgfd97zd7t7js9_gjxx600000gn/T/ipykernel_2438/1539996751.py:11: SettingWithCopyWarning: \n",
      "A value is trying to be set on a copy of a slice from a DataFrame.\n",
      "Try using .loc[row_indexer,col_indexer] = value instead\n",
      "\n",
      "See the caveats in the documentation: https://pandas.pydata.org/pandas-docs/stable/user_guide/indexing.html#returning-a-view-versus-a-copy\n",
      "  df_trump_filter['support_candidate'] = df_trump_filter['sentiment_category'].apply(supporter_trump)\n"
     ]
    }
   ],
   "source": [
    "#label each tweet on whether it is biden or trump supporting\n",
    "#if a tweet is negative in the trump dataset, the tweet is labeled as biden supporting (1)\n",
    "#if positive in the trump dataset, it is labeled as trump supporting (-1)\n",
    "def supporter_trump(sentiment_category):\n",
    "    label = ''\n",
    "    if(sentiment_category==\"positive\"):\n",
    "        label = -1\n",
    "    elif(sentiment_category == \"negative\"):\n",
    "        label = 1\n",
    "    else:\n",
    "        label = 0\n",
    "    return(label)\n",
    "\n",
    "df_trump_filter['support_candidate'] = df_trump_filter['sentiment_category'].apply(supporter_trump)"
   ]
  },
  {
   "cell_type": "code",
   "execution_count": 16,
   "id": "7c82cc16-46dc-40cb-90ce-d5557a492192",
   "metadata": {},
   "outputs": [],
   "source": [
    "#label each tweet on whether it is biden or trump supporting\n",
    "#if a tweet is negative in the biden dataset, the tweet is labeled as trump supporting (1)\n",
    "#if positive in the biden dataset, it is labeled as biden supporting (-1)\n",
    "def supporter_biden(sentiment_category):\n",
    "    label = ''\n",
    "    if(sentiment_category==\"positive\"):\n",
    "        label = 1\n",
    "    elif(sentiment_category == \"negative\"):\n",
    "        label = -1\n",
    "    else:\n",
    "        label = 0\n",
    "    return(label)\n",
    "\n",
    "biden_shortened['support_candidate'] = biden_shortened['sentiment_category'].apply(supporter_biden)"
   ]
  },
  {
   "cell_type": "code",
   "execution_count": 18,
   "id": "a9697b4e-259b-421b-9253-ecdfdd735549",
   "metadata": {},
   "outputs": [],
   "source": [
    "combined = pd.concat([biden_shortened, df_trump_filter])"
   ]
  },
  {
   "cell_type": "code",
   "execution_count": 19,
   "id": "3ab4c6a7-fad7-4798-a719-747cf46fb176",
   "metadata": {},
   "outputs": [
    {
     "data": {
      "text/plain": [
       "support_candidate\n",
       " 1    17639\n",
       "-1    10479\n",
       "Name: count, dtype: int64"
      ]
     },
     "execution_count": 19,
     "metadata": {},
     "output_type": "execute_result"
    }
   ],
   "source": [
    "combined[\"support_candidate\"].value_counts()"
   ]
  },
  {
   "cell_type": "markdown",
   "id": "a416a53e-cf6b-47fa-a8f0-da08288fc4a9",
   "metadata": {},
   "source": [
    "### analyze by user"
   ]
  },
  {
   "cell_type": "code",
   "execution_count": 46,
   "id": "1ca34229-fb79-42a2-b30a-0e7b8fb81b2a",
   "metadata": {},
   "outputs": [
    {
     "data": {
      "text/html": [
       "<div>\n",
       "<style scoped>\n",
       "    .dataframe tbody tr th:only-of-type {\n",
       "        vertical-align: middle;\n",
       "    }\n",
       "\n",
       "    .dataframe tbody tr th {\n",
       "        vertical-align: top;\n",
       "    }\n",
       "\n",
       "    .dataframe thead th {\n",
       "        text-align: right;\n",
       "    }\n",
       "</style>\n",
       "<table border=\"1\" class=\"dataframe\">\n",
       "  <thead>\n",
       "    <tr style=\"text-align: right;\">\n",
       "      <th></th>\n",
       "      <th>user_id</th>\n",
       "      <th>mean</th>\n",
       "      <th>count</th>\n",
       "    </tr>\n",
       "  </thead>\n",
       "  <tbody>\n",
       "    <tr>\n",
       "      <th>0</th>\n",
       "      <td>2.520031e+06</td>\n",
       "      <td>0.090909</td>\n",
       "      <td>11</td>\n",
       "    </tr>\n",
       "    <tr>\n",
       "      <th>1</th>\n",
       "      <td>4.132841e+06</td>\n",
       "      <td>0.590164</td>\n",
       "      <td>122</td>\n",
       "    </tr>\n",
       "    <tr>\n",
       "      <th>2</th>\n",
       "      <td>5.474222e+06</td>\n",
       "      <td>-0.428571</td>\n",
       "      <td>7</td>\n",
       "    </tr>\n",
       "    <tr>\n",
       "      <th>3</th>\n",
       "      <td>7.829912e+06</td>\n",
       "      <td>0.789474</td>\n",
       "      <td>19</td>\n",
       "    </tr>\n",
       "    <tr>\n",
       "      <th>4</th>\n",
       "      <td>8.436472e+06</td>\n",
       "      <td>0.375000</td>\n",
       "      <td>96</td>\n",
       "    </tr>\n",
       "    <tr>\n",
       "      <th>...</th>\n",
       "      <td>...</td>\n",
       "      <td>...</td>\n",
       "      <td>...</td>\n",
       "    </tr>\n",
       "    <tr>\n",
       "      <th>1255</th>\n",
       "      <td>1.318552e+18</td>\n",
       "      <td>-1.000000</td>\n",
       "      <td>6</td>\n",
       "    </tr>\n",
       "    <tr>\n",
       "      <th>1256</th>\n",
       "      <td>1.318560e+18</td>\n",
       "      <td>-0.777778</td>\n",
       "      <td>9</td>\n",
       "    </tr>\n",
       "    <tr>\n",
       "      <th>1257</th>\n",
       "      <td>1.318591e+18</td>\n",
       "      <td>-1.000000</td>\n",
       "      <td>7</td>\n",
       "    </tr>\n",
       "    <tr>\n",
       "      <th>1258</th>\n",
       "      <td>1.320020e+18</td>\n",
       "      <td>0.714286</td>\n",
       "      <td>7</td>\n",
       "    </tr>\n",
       "    <tr>\n",
       "      <th>1259</th>\n",
       "      <td>1.322182e+18</td>\n",
       "      <td>-1.000000</td>\n",
       "      <td>7</td>\n",
       "    </tr>\n",
       "  </tbody>\n",
       "</table>\n",
       "<p>1260 rows × 3 columns</p>\n",
       "</div>"
      ],
      "text/plain": [
       "           user_id      mean  count\n",
       "0     2.520031e+06  0.090909     11\n",
       "1     4.132841e+06  0.590164    122\n",
       "2     5.474222e+06 -0.428571      7\n",
       "3     7.829912e+06  0.789474     19\n",
       "4     8.436472e+06  0.375000     96\n",
       "...            ...       ...    ...\n",
       "1255  1.318552e+18 -1.000000      6\n",
       "1256  1.318560e+18 -0.777778      9\n",
       "1257  1.318591e+18 -1.000000      7\n",
       "1258  1.320020e+18  0.714286      7\n",
       "1259  1.322182e+18 -1.000000      7\n",
       "\n",
       "[1260 rows x 3 columns]"
      ]
     },
     "execution_count": 46,
     "metadata": {},
     "output_type": "execute_result"
    }
   ],
   "source": [
    "#group the combined dataset by user_id and get the mean of that user's tweet's support and the amount of tweets\n",
    "#we are now seeing how each USER leans rather than individual tweets\n",
    "#so if mean = -1 for example, all their tweets are fully trump supporting\n",
    "grouped_combined = combined.groupby(\"user_id\").agg({\"support_candidate\": [\"mean\", \"count\"]})\n",
    "grouped_combined = grouped_combined[grouped_combined[(\"support_candidate\", \"count\")]>5]\n",
    "grouped_combined = grouped_combined.droplevel(axis = 1, level = 0).reset_index()\n",
    "grouped_combined"
   ]
  },
  {
   "cell_type": "code",
   "execution_count": 21,
   "id": "b73ca246-61da-4c08-8a8f-b03d5bd60464",
   "metadata": {},
   "outputs": [
    {
     "data": {
      "text/plain": [
       "(array([146., 141., 108.,  71.,  54.,  94.,  75.,  96., 172., 303.]),\n",
       " array([-1. , -0.8, -0.6, -0.4, -0.2,  0. ,  0.2,  0.4,  0.6,  0.8,  1. ]),\n",
       " <BarContainer object of 10 artists>)"
      ]
     },
     "execution_count": 21,
     "metadata": {},
     "output_type": "execute_result"
    },
    {
     "data": {
      "image/png": "[encoded data removed]",
      "text/plain": [
       "<Figure size 640x480 with 1 Axes>"
      ]
     },
     "metadata": {},
     "output_type": "display_data"
    }
   ],
   "source": [
    "#distribution of the mean support candidate of the users\n",
    "#we can see there are a lot of fully biden supporting users\n",
    "plt.hist(grouped_combined[\"mean\"])"
   ]
  },
  {
   "cell_type": "markdown",
   "id": "65c455dc-585d-4752-8f06-26cab5d58802",
   "metadata": {},
   "source": [
    "### classification of user political alignment"
   ]
  },
  {
   "cell_type": "code",
   "execution_count": 90,
   "id": "6e77e77a-314c-4504-8110-a8121d985551",
   "metadata": {},
   "outputs": [],
   "source": [
    "#to classify USERS into who they support based of the mean of their tweets\n",
    "def classify(inp):\n",
    "    thres = 0.22\n",
    "    if (inp >= -thres) and (inp<=thres):\n",
    "        return \"neutral\"\n",
    "    elif inp < -thres:\n",
    "        return \"trump\"\n",
    "    elif inp >thres:\n",
    "        return \"biden\"\n",
    "    else:\n",
    "        return \"error\""
   ]
  },
  {
   "cell_type": "code",
   "execution_count": 91,
   "id": "e3dec85d-4d02-4c47-a93c-a2ca17a1dc75",
   "metadata": {},
   "outputs": [],
   "source": [
    "grouped_combined[\"support\"] = grouped_combined[\"mean\"].apply(classify)"
   ]
  },
  {
   "cell_type": "code",
   "execution_count": 92,
   "id": "f9c408da-3825-4e25-b86a-bd78e07f3cec",
   "metadata": {},
   "outputs": [
    {
     "data": {
      "text/plain": [
       "support\n",
       "biden      645\n",
       "trump      461\n",
       "neutral    154\n",
       "Name: count, dtype: int64"
      ]
     },
     "execution_count": 92,
     "metadata": {},
     "output_type": "execute_result"
    }
   ],
   "source": [
    "grouped_combined[\"support\"].value_counts()"
   ]
  },
  {
   "cell_type": "code",
   "execution_count": 93,
   "id": "fe8771df-949d-4d7d-b7b7-8f6d26e766af",
   "metadata": {},
   "outputs": [
    {
     "data": {
      "text/html": [
       "<div>\n",
       "<style scoped>\n",
       "    .dataframe tbody tr th:only-of-type {\n",
       "        vertical-align: middle;\n",
       "    }\n",
       "\n",
       "    .dataframe tbody tr th {\n",
       "        vertical-align: top;\n",
       "    }\n",
       "\n",
       "    .dataframe thead th {\n",
       "        text-align: right;\n",
       "    }\n",
       "</style>\n",
       "<table border=\"1\" class=\"dataframe\">\n",
       "  <thead>\n",
       "    <tr style=\"text-align: right;\">\n",
       "      <th></th>\n",
       "      <th>user_id</th>\n",
       "      <th>user_support_candidate</th>\n",
       "      <th>user_support_level</th>\n",
       "    </tr>\n",
       "  </thead>\n",
       "  <tbody>\n",
       "    <tr>\n",
       "      <th>0</th>\n",
       "      <td>2.520031e+06</td>\n",
       "      <td>neutral</td>\n",
       "      <td>0.090909</td>\n",
       "    </tr>\n",
       "    <tr>\n",
       "      <th>1</th>\n",
       "      <td>4.132841e+06</td>\n",
       "      <td>biden</td>\n",
       "      <td>0.590164</td>\n",
       "    </tr>\n",
       "    <tr>\n",
       "      <th>2</th>\n",
       "      <td>5.474222e+06</td>\n",
       "      <td>trump</td>\n",
       "      <td>-0.428571</td>\n",
       "    </tr>\n",
       "    <tr>\n",
       "      <th>3</th>\n",
       "      <td>7.829912e+06</td>\n",
       "      <td>biden</td>\n",
       "      <td>0.789474</td>\n",
       "    </tr>\n",
       "    <tr>\n",
       "      <th>4</th>\n",
       "      <td>8.436472e+06</td>\n",
       "      <td>biden</td>\n",
       "      <td>0.375000</td>\n",
       "    </tr>\n",
       "    <tr>\n",
       "      <th>...</th>\n",
       "      <td>...</td>\n",
       "      <td>...</td>\n",
       "      <td>...</td>\n",
       "    </tr>\n",
       "    <tr>\n",
       "      <th>1255</th>\n",
       "      <td>1.318552e+18</td>\n",
       "      <td>trump</td>\n",
       "      <td>-1.000000</td>\n",
       "    </tr>\n",
       "    <tr>\n",
       "      <th>1256</th>\n",
       "      <td>1.318560e+18</td>\n",
       "      <td>trump</td>\n",
       "      <td>-0.777778</td>\n",
       "    </tr>\n",
       "    <tr>\n",
       "      <th>1257</th>\n",
       "      <td>1.318591e+18</td>\n",
       "      <td>trump</td>\n",
       "      <td>-1.000000</td>\n",
       "    </tr>\n",
       "    <tr>\n",
       "      <th>1258</th>\n",
       "      <td>1.320020e+18</td>\n",
       "      <td>biden</td>\n",
       "      <td>0.714286</td>\n",
       "    </tr>\n",
       "    <tr>\n",
       "      <th>1259</th>\n",
       "      <td>1.322182e+18</td>\n",
       "      <td>trump</td>\n",
       "      <td>-1.000000</td>\n",
       "    </tr>\n",
       "  </tbody>\n",
       "</table>\n",
       "<p>1260 rows × 3 columns</p>\n",
       "</div>"
      ],
      "text/plain": [
       "           user_id user_support_candidate  user_support_level\n",
       "0     2.520031e+06                neutral            0.090909\n",
       "1     4.132841e+06                  biden            0.590164\n",
       "2     5.474222e+06                  trump           -0.428571\n",
       "3     7.829912e+06                  biden            0.789474\n",
       "4     8.436472e+06                  biden            0.375000\n",
       "...            ...                    ...                 ...\n",
       "1255  1.318552e+18                  trump           -1.000000\n",
       "1256  1.318560e+18                  trump           -0.777778\n",
       "1257  1.318591e+18                  trump           -1.000000\n",
       "1258  1.320020e+18                  biden            0.714286\n",
       "1259  1.322182e+18                  trump           -1.000000\n",
       "\n",
       "[1260 rows x 3 columns]"
      ]
     },
     "execution_count": 93,
     "metadata": {},
     "output_type": "execute_result"
    }
   ],
   "source": [
    "support_by_user = grouped_combined[[\"user_id\", \"support\", \"mean\"]]\n",
    "support_by_user.columns = [\"user_id\", \"user_support_candidate\", \"user_support_level\"]\n",
    "support_by_user"
   ]
  },
  {
   "cell_type": "code",
   "execution_count": 94,
   "id": "6e8da30c-6253-40d4-ae3d-ae04dd492ef0",
   "metadata": {},
   "outputs": [],
   "source": [
    "tweets_and_support = combined.merge(support_by_user, on = \"user_id\", how = \"left\")"
   ]
  },
  {
   "cell_type": "code",
   "execution_count": 108,
   "id": "d34a058f-8d28-498a-8e89-d85371130ea6",
   "metadata": {},
   "outputs": [
    {
     "data": {
      "text/plain": [
       "154"
      ]
     },
     "execution_count": 108,
     "metadata": {},
     "output_type": "execute_result"
    }
   ],
   "source": [
    "neutral_tweets = tweets_and_support[tweets_and_support[\"user_support_candidate\"] == \"neutral\"]"
   ]
  },
  {
   "cell_type": "markdown",
   "id": "5ad98778-0a6d-4403-a73f-996ddc52dc06",
   "metadata": {},
   "source": [
    "### data clustering"
   ]
  },
  {
   "cell_type": "code",
   "execution_count": 130,
   "id": "de8dca0d-833d-4200-9764-5252acc46c23",
   "metadata": {},
   "outputs": [],
   "source": [
    "#separate the dataset into clusters\n",
    "biden_tweets = tweets_and_support[tweets_and_support[\"user_support_candidate\"] == \"biden\"]\n",
    "biden_tweets_less = biden_tweets[biden_tweets['user_support_level']<0.5]\n",
    "biden_tweets_more = biden_tweets[biden_tweets['user_support_level']>=0.5]"
   ]
  },
  {
   "cell_type": "code",
   "execution_count": 131,
   "id": "73d45acb-cef9-4e02-b69e-8076c0d11ab1",
   "metadata": {},
   "outputs": [
    {
     "data": {
      "text/plain": [
       "(2354, 8)"
      ]
     },
     "execution_count": 131,
     "metadata": {},
     "output_type": "execute_result"
    }
   ],
   "source": [
    "biden_tweets_less.shape"
   ]
  },
  {
   "cell_type": "code",
   "execution_count": 132,
   "id": "bcd8659a-4166-4dd6-9ed8-df25ff5ee8a9",
   "metadata": {},
   "outputs": [
    {
     "data": {
      "text/plain": [
       "(12803, 8)"
      ]
     },
     "execution_count": 132,
     "metadata": {},
     "output_type": "execute_result"
    }
   ],
   "source": [
    "biden_tweets_more.shape"
   ]
  },
  {
   "cell_type": "code",
   "execution_count": 141,
   "id": "db9ae639-9d12-4721-b4cd-44eb05298bc1",
   "metadata": {},
   "outputs": [
    {
     "data": {
      "text/plain": [
       "\"funder  napernurse already voted for  biden by  absenteeballot. plan to skip both. trim my toe nails. \\n\\nit's a choice between pitiful dementia patients. held my nose and voted *against* the  maga sociopath. 😬  👈\\n\\n bidenharrislandslide2020  bidentownhallabc\""
      ]
     },
     "execution_count": 141,
     "metadata": {},
     "output_type": "execute_result"
    }
   ],
   "source": [
    "#good example tweet for weak biden supporter - user 117327100.0\n",
    "biden_tweets_less[\"cleaned_tweets\"].iloc[2]"
   ]
  },
  {
   "cell_type": "code",
   "execution_count": 152,
   "id": "4b5a60d1-a2c0-4fa9-9b26-7cae2d9243bb",
   "metadata": {},
   "outputs": [],
   "source": [
    "#separate the dataset into clusters\n",
    "trump_tweets = tweets_and_support[tweets_and_support[\"user_support_candidate\"] == \"trump\"]\n",
    "trump_tweets_less = trump_tweets[trump_tweets['user_support_level']>-0.5]\n",
    "trump_tweets_more = trump_tweets[trump_tweets['user_support_level']<=-0.5]"
   ]
  },
  {
   "cell_type": "code",
   "execution_count": 153,
   "id": "3587824f-466e-442f-b25e-0c15a2c7e6dd",
   "metadata": {},
   "outputs": [
    {
     "data": {
      "text/plain": [
       "(1149, 8)"
      ]
     },
     "execution_count": 153,
     "metadata": {},
     "output_type": "execute_result"
    }
   ],
   "source": [
    "trump_tweets_less.shape"
   ]
  },
  {
   "cell_type": "code",
   "execution_count": 154,
   "id": "75575384-9912-49a7-b099-34f37c56e369",
   "metadata": {},
   "outputs": [
    {
     "data": {
      "text/plain": [
       "(4617, 8)"
      ]
     },
     "execution_count": 154,
     "metadata": {},
     "output_type": "execute_result"
    }
   ],
   "source": [
    "trump_tweets_more.shape"
   ]
  },
  {
   "cell_type": "code",
   "execution_count": 1,
   "id": "647daad0-173f-476e-a984-e719b3d7604e",
   "metadata": {},
   "outputs": [
    {
     "ename": "NameError",
     "evalue": "name 'biden_tweets_more' is not defined",
     "output_type": "error",
     "traceback": [
      "\u001b[0;31m---------------------------------------------------------------------------\u001b[0m",
      "\u001b[0;31mNameError\u001b[0m                                 Traceback (most recent call last)",
      "\u001b[0;32m/var/folders/7c/700s_qs13f7b8qwc_tdr0lc40000gn/T/ipykernel_88852/1604335710.py\u001b[0m in \u001b[0;36m<module>\u001b[0;34m\u001b[0m\n\u001b[1;32m      1\u001b[0m \u001b[0;31m#number of users for each cluster:\u001b[0m\u001b[0;34m\u001b[0m\u001b[0;34m\u001b[0m\u001b[0m\n\u001b[0;32m----> 2\u001b[0;31m \u001b[0mprint\u001b[0m\u001b[0;34m(\u001b[0m\u001b[0;34m\"biden strong: \"\u001b[0m \u001b[0;34m+\u001b[0m \u001b[0mstr\u001b[0m\u001b[0;34m(\u001b[0m\u001b[0mlen\u001b[0m\u001b[0;34m(\u001b[0m\u001b[0mbiden_tweets_more\u001b[0m\u001b[0;34m[\u001b[0m\u001b[0;34m\"user_id\"\u001b[0m\u001b[0;34m]\u001b[0m\u001b[0;34m.\u001b[0m\u001b[0munique\u001b[0m\u001b[0;34m(\u001b[0m\u001b[0;34m)\u001b[0m\u001b[0;34m)\u001b[0m\u001b[0;34m)\u001b[0m\u001b[0;34m)\u001b[0m\u001b[0;34m\u001b[0m\u001b[0;34m\u001b[0m\u001b[0m\n\u001b[0m\u001b[1;32m      3\u001b[0m \u001b[0mprint\u001b[0m\u001b[0;34m(\u001b[0m\u001b[0;34m\"biden weak: \"\u001b[0m \u001b[0;34m+\u001b[0m \u001b[0mstr\u001b[0m\u001b[0;34m(\u001b[0m\u001b[0mlen\u001b[0m\u001b[0;34m(\u001b[0m\u001b[0mbiden_tweets_less\u001b[0m\u001b[0;34m[\u001b[0m\u001b[0;34m\"user_id\"\u001b[0m\u001b[0;34m]\u001b[0m\u001b[0;34m.\u001b[0m\u001b[0munique\u001b[0m\u001b[0;34m(\u001b[0m\u001b[0;34m)\u001b[0m\u001b[0;34m)\u001b[0m\u001b[0;34m)\u001b[0m\u001b[0;34m)\u001b[0m\u001b[0;34m\u001b[0m\u001b[0;34m\u001b[0m\u001b[0m\n\u001b[1;32m      4\u001b[0m \u001b[0mprint\u001b[0m\u001b[0;34m(\u001b[0m\u001b[0;34m\"neutral: \"\u001b[0m \u001b[0;34m+\u001b[0m \u001b[0mstr\u001b[0m\u001b[0;34m(\u001b[0m\u001b[0mlen\u001b[0m\u001b[0;34m(\u001b[0m\u001b[0mneutral_tweets\u001b[0m\u001b[0;34m[\u001b[0m\u001b[0;34m\"user_id\"\u001b[0m\u001b[0;34m]\u001b[0m\u001b[0;34m.\u001b[0m\u001b[0munique\u001b[0m\u001b[0;34m(\u001b[0m\u001b[0;34m)\u001b[0m\u001b[0;34m)\u001b[0m\u001b[0;34m)\u001b[0m\u001b[0;34m)\u001b[0m\u001b[0;34m\u001b[0m\u001b[0;34m\u001b[0m\u001b[0m\n\u001b[1;32m      5\u001b[0m \u001b[0mprint\u001b[0m\u001b[0;34m(\u001b[0m\u001b[0;34m\"trump strong: \"\u001b[0m \u001b[0;34m+\u001b[0m \u001b[0mstr\u001b[0m\u001b[0;34m(\u001b[0m\u001b[0mlen\u001b[0m\u001b[0;34m(\u001b[0m\u001b[0mtrump_tweets_more\u001b[0m\u001b[0;34m[\u001b[0m\u001b[0;34m\"user_id\"\u001b[0m\u001b[0;34m]\u001b[0m\u001b[0;34m.\u001b[0m\u001b[0munique\u001b[0m\u001b[0;34m(\u001b[0m\u001b[0;34m)\u001b[0m\u001b[0;34m)\u001b[0m\u001b[0;34m)\u001b[0m\u001b[0;34m)\u001b[0m\u001b[0;34m\u001b[0m\u001b[0;34m\u001b[0m\u001b[0m\n",
      "\u001b[0;31mNameError\u001b[0m: name 'biden_tweets_more' is not defined"
     ]
    }
   ],
   "source": [
    "#number of users for each cluster: \n",
    "print(\"biden strong: \" + str(len(biden_tweets_more[\"user_id\"].unique())))\n",
    "print(\"biden weak: \" + str(len(biden_tweets_less[\"user_id\"].unique())))\n",
    "print(\"neutral: \" + str(len(neutral_tweets[\"user_id\"].unique())))\n",
    "print(\"trump strong: \" + str(len(trump_tweets_more[\"user_id\"].unique())))\n",
    "print(\"trump weak: \" + str(len(trump_tweets_less[\"user_id\"].unique())))"
   ]
  },
  {
   "cell_type": "code",
   "execution_count": null,
   "id": "b771757d-3b33-4e35-80fa-baf0dddf16af",
   "metadata": {},
   "outputs": [],
   "source": [
    "biden_tweets_more.to_csv('split_data/biden_tweets_more.csv') \n",
    "biden_tweets_less.to_csv('split_data/biden_tweets_less.csv') \n",
    "neutral.to_csv('split_data/neutral.csv') \n",
    "trump_tweets_more.to_csv('split_data/trump_tweets_more.csv') \n",
    "trump_tweets_less.to_csv('split_data/trump_tweets_less.csv') "
   ]
  }
 ],
 "metadata": {
  "kernelspec": {
   "display_name": "Python 3 (ipykernel)",
   "language": "python",
   "name": "python3"
  },
  "language_info": {
   "codemirror_mode": {
    "name": "ipython",
    "version": 3
   },
   "file_extension": ".py",
   "mimetype": "text/x-python",
   "name": "python",
   "nbconvert_exporter": "python",
   "pygments_lexer": "ipython3",
   "version": "3.9.13"
  }
 },
 "nbformat": 4,
 "nbformat_minor": 5
}
